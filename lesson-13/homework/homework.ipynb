{
 "cells": [
  {
   "cell_type": "markdown",
   "metadata": {},
   "source": [
    "\n",
    "    1.Create a vector with values ranging from 10 to 49.\n",
    "\n",
    "    2.Create a 3x3 matrix with values ranging from 0 to 8.\n",
    "\n",
    "    3.Create a 3x3 identity matrix.\n",
    "    \n",
    "    4.Create a 3x3x3 array with random values.\n",
    "\n",
    "    5.Create a 10x10 array with random values and find the minimum and maximum values.\n",
    "\n",
    "    6.Create a random vector of size 30 and find the mean value.\n",
    "\n",
    "    7.Normalize a 5x5 random matrix.\n",
    "\n",
    "    8.Multiply a 5x3 matrix by a 3x2 matrix (real matrix product).\n",
    "\n",
    "    9.Create two 3x3 matrices and compute their dot product.\n",
    "\n",
    "    10.Given a 4x4 matrix, find its transpose.\n",
    "\n",
    "    11.Create a 3x3 matrix and calculate its determinant.\n",
    "\n",
    "    12.Create two matrices ( A ) (3x4) and ( B ) (4x3), and compute the matrix product ( A \\cdot B ).\n",
    "\n",
    "    13.Create a 3x3 random matrix and a 3-element column vector. Compute the matrix-vector product.\n",
    "\n",
    "    14.Solve the linear system ( Ax = b ) where ( A ) is a 3x3 matrix, and ( b ) is a 3x1 column vector.\n",
    "\n",
    "    15.Given a 5x5 matrix, find the row-wise and column-wise sums.\n",
    "\n"
   ]
  },
  {
   "cell_type": "code",
   "execution_count": 16,
   "metadata": {},
   "outputs": [
    {
     "data": {
      "text/plain": [
       "array([10, 11, 12, 13, 14, 15, 16, 17, 18, 19, 20, 21, 22, 23, 24, 25, 26,\n",
       "       27, 28, 29, 30, 31, 32, 33, 34, 35, 36, 37, 38, 39, 40, 41, 42, 43,\n",
       "       44, 45, 46, 47, 48, 49])"
      ]
     },
     "execution_count": 16,
     "metadata": {},
     "output_type": "execute_result"
    }
   ],
   "source": [
    "#1. 10->49\n",
    "import numpy as np\n",
    "\n",
    "vector=np.arange(10, 50)\n",
    "\n",
    "vector "
   ]
  },
  {
   "cell_type": "code",
   "execution_count": null,
   "metadata": {},
   "outputs": [
    {
     "data": {
      "text/plain": [
       "array([[0, 1, 2],\n",
       "       [3, 4, 5],\n",
       "       [6, 7, 8]])"
      ]
     },
     "execution_count": 27,
     "metadata": {},
     "output_type": "execute_result"
    }
   ],
   "source": [
    "#2.\n",
    "a3d=[\n",
    "    [0,1,2],\n",
    "    [3,4,5],\n",
    "    [6,7,8]\n",
    "]\n",
    "v1=np.array(a3d)\n",
    "v1"
   ]
  },
  {
   "cell_type": "code",
   "execution_count": null,
   "metadata": {},
   "outputs": [
    {
     "data": {
      "text/plain": [
       "array([[1, 0, 0],\n",
       "       [0, 1, 0],\n",
       "       [0, 0, 1]])"
      ]
     },
     "execution_count": 28,
     "metadata": {},
     "output_type": "execute_result"
    }
   ],
   "source": [
    "#3.\n",
    "matrix=np.eye(3, dtype=int)\n",
    "matrix"
   ]
  },
  {
   "cell_type": "code",
   "execution_count": 33,
   "metadata": {},
   "outputs": [
    {
     "data": {
      "text/plain": [
       "array([[[31, 19, 29],\n",
       "        [34, 58, 37],\n",
       "        [63, 27, 88]],\n",
       "\n",
       "       [[27, 54, 39],\n",
       "        [97, 49, 19],\n",
       "        [89, 10, 53]],\n",
       "\n",
       "       [[ 1, 73, 42],\n",
       "        [74, 38,  9],\n",
       "        [76, 17, 15]]], dtype=int32)"
      ]
     },
     "execution_count": 33,
     "metadata": {},
     "output_type": "execute_result"
    }
   ],
   "source": [
    "#4.\n",
    "a=np.array([\n",
    "    [12,43,342],\n",
    "    [23,3424,123],\n",
    "    [152,534,342,],\n",
    "    [543,675,843],\n",
    "    [564,343,765],\n",
    "    [423,65,23]\n",
    "])\n",
    "a\n",
    "\n",
    "random_numbers=np.random.randint(0, 100, size=(3,3,3), dtype=int)\n",
    "random_numbers"
   ]
  },
  {
   "cell_type": "code",
   "execution_count": null,
   "metadata": {},
   "outputs": [],
   "source": [
    "#5.\n",
    "ran_num2=np.random.randint(0,100, size=(10, 10), dtype=int)\n",
    "ran_num2"
   ]
  },
  {
   "cell_type": "code",
   "execution_count": 39,
   "metadata": {},
   "outputs": [
    {
     "data": {
      "text/plain": [
       "array([[74,  8, 15, 86,  8, 13, 54, 79, 20, 87],\n",
       "       [68, 20, 58, 73, 44, 11, 65, 74, 96, 38],\n",
       "       [87, 68, 27, 66, 91, 31, 83, 60, 79,  8],\n",
       "       [58, 55, 95, 93, 74, 30, 41, 45, 89, 56],\n",
       "       [18, 51, 43, 82, 64, 83, 84, 38, 77, 99],\n",
       "       [98, 36,  7, 18, 77, 36, 21, 64, 78, 57],\n",
       "       [24, 81, 98,  6, 40, 55, 79, 19,  8,  4],\n",
       "       [13,  7, 21, 53, 33, 62, 13, 64, 96, 68],\n",
       "       [80, 67,  6, 21, 78, 81, 39, 64, 61, 75],\n",
       "       [63,  8,  7, 74, 63, 81, 35, 17,  1, 29]], dtype=int32)"
      ]
     },
     "execution_count": 39,
     "metadata": {},
     "output_type": "execute_result"
    }
   ],
   "source": [
    "ran_num2"
   ]
  },
  {
   "cell_type": "code",
   "execution_count": 41,
   "metadata": {},
   "outputs": [
    {
     "data": {
      "text/plain": [
       "np.int32(99)"
      ]
     },
     "execution_count": 41,
     "metadata": {},
     "output_type": "execute_result"
    }
   ],
   "source": [
    "ran_num2.max()"
   ]
  },
  {
   "cell_type": "code",
   "execution_count": 42,
   "metadata": {},
   "outputs": [
    {
     "data": {
      "text/plain": [
       "np.int32(1)"
      ]
     },
     "execution_count": 42,
     "metadata": {},
     "output_type": "execute_result"
    }
   ],
   "source": [
    "ran_num2.min()"
   ]
  },
  {
   "cell_type": "code",
   "execution_count": null,
   "metadata": {},
   "outputs": [
    {
     "data": {
      "text/plain": [
       "array([4, 4, 5, 2, 0, 5, 0, 2, 2, 7], dtype=int32)"
      ]
     },
     "execution_count": 44,
     "metadata": {},
     "output_type": "execute_result"
    }
   ],
   "source": [
    "#6.\n",
    "\n",
    "ran_num3=np.random.randint(0,10, size=(10))\n",
    "ran_num3"
   ]
  },
  {
   "cell_type": "code",
   "execution_count": 45,
   "metadata": {},
   "outputs": [
    {
     "data": {
      "text/plain": [
       "np.float64(3.1)"
      ]
     },
     "execution_count": 45,
     "metadata": {},
     "output_type": "execute_result"
    }
   ],
   "source": [
    "ran_num3.mean()"
   ]
  },
  {
   "cell_type": "code",
   "execution_count": null,
   "metadata": {},
   "outputs": [
    {
     "name": "stdout",
     "output_type": "stream",
     "text": [
      "Normalized 5x5 matrix: \n",
      "-----------------\n",
      "Normalized 5x5 matrix: \n"
     ]
    },
    {
     "data": {
      "text/plain": [
       "array([[0.        , 0.31578947, 0.94736842, 0.84210526, 0.94736842],\n",
       "       [0.21052632, 0.89473684, 0.21052632, 1.        , 0.63157895],\n",
       "       [0.84210526, 0.84210526, 0.89473684, 0.36842105, 0.84210526],\n",
       "       [0.68421053, 0.        , 1.        , 0.        , 0.10526316],\n",
       "       [0.47368421, 1.        , 0.        , 0.36842105, 0.15789474]])"
      ]
     },
     "execution_count": 58,
     "metadata": {},
     "output_type": "execute_result"
    }
   ],
   "source": [
    "#7.\n",
    "# 1 st way:\n",
    "def normalize_matrix():\n",
    "    \n",
    " rand_matrix=np.random.randint(0,20, size=(5, 5))\n",
    "\n",
    " normalized_matrix=(rand_matrix-np.min(rand_matrix)) / (np.max(rand_matrix))\n",
    "\n",
    " return normalized_matrix\n",
    "\n",
    "normalized_matrix=normalize_matrix()\n",
    "print(\"Normalized 5x5 matrix: \")\n",
    "normalized_matrix\n",
    "\n",
    "print(\"-----------------\")\n",
    "\n",
    "#2 nd way:\n",
    "rand_matrix2=np.random.randint(0,20, size=(5, 5))\n",
    "\n",
    "normalized_matrix2=(rand_matrix2-np.min(rand_matrix2)) / (np.max(rand_matrix2))\n",
    "\n",
    "print(\"Normalized 5x5 matrix: \")\n",
    "normalized_matrix2\n"
   ]
  },
  {
   "cell_type": "code",
   "execution_count": 68,
   "metadata": {},
   "outputs": [
    {
     "data": {
      "text/plain": [
       "array([[6, 9, 4],\n",
       "       [8, 8, 1],\n",
       "       [1, 0, 0],\n",
       "       [3, 1, 4],\n",
       "       [4, 7, 5]], dtype=int32)"
      ]
     },
     "execution_count": 68,
     "metadata": {},
     "output_type": "execute_result"
    }
   ],
   "source": [
    "# 8.Multiply a 5x3 matrix by a 3x2 matrix (real matrix product).\n",
    "\n",
    "matrix1=np.random.randint(0,10, size=(5, 3))\n",
    "\n",
    "matrix1"
   ]
  },
  {
   "cell_type": "code",
   "execution_count": 106,
   "metadata": {},
   "outputs": [
    {
     "name": "stdout",
     "output_type": "stream",
     "text": [
      "Random a:\n",
      " [[0 4 9]\n",
      " [0 9 9]\n",
      " [9 4 6]]\n",
      "\n",
      "Random b:\n",
      " [[9 7 6]\n",
      " [3 8 9]\n",
      " [6 1 7]]\n"
     ]
    },
    {
     "data": {
      "text/plain": [
       "array([[ 0, 28, 54],\n",
       "       [ 0, 72, 81],\n",
       "       [54,  4, 42]], dtype=int32)"
      ]
     },
     "execution_count": 106,
     "metadata": {},
     "output_type": "execute_result"
    }
   ],
   "source": [
    "#9.\n",
    "a=np.random.randint(0,10, size=(3,3))\n",
    "b=np.random.randint(0,10, size=(3,3))\n",
    "r=a*b\n",
    "print(\"Random a:\\n\", a)\n",
    "print(\"\\nRandom b:\\n\", b)\n",
    "r"
   ]
  },
  {
   "cell_type": "code",
   "execution_count": 104,
   "metadata": {},
   "outputs": [
    {
     "name": "stdout",
     "output_type": "stream",
     "text": [
      "Random matrix:\n",
      " [[72 57 27 55]\n",
      " [71 76 47  9]\n",
      " [36 14 63 22]\n",
      " [90 96 85 70]]\n",
      "\n",
      "Transposed Matrix:\n",
      " [[72 71 36 90]\n",
      " [57 76 14 96]\n",
      " [27 47 63 85]\n",
      " [55  9 22 70]]\n"
     ]
    }
   ],
   "source": [
    "#10.\n",
    "\n",
    "r_m=np.random.randint(0, 100, size=(4, 4))\n",
    "print(\"Random matrix:\\n\", r_m)\n",
    "\n",
    "a=r_m.transpose()\n",
    "print(\"\\nTransposed Matrix:\\n\", a)\n",
    "a=r_m.transpose()"
   ]
  },
  {
   "cell_type": "code",
   "execution_count": 108,
   "metadata": {},
   "outputs": [
    {
     "name": "stdout",
     "output_type": "stream",
     "text": [
      "Random matrix:\n",
      " [[8 3 4]\n",
      " [4 0 7]\n",
      " [7 9 6]]\n",
      "\n",
      "Determinant: -284.99999999999983\n"
     ]
    }
   ],
   "source": [
    "#11.\n",
    "# Create a 3x3 matrix with random integers (e.g., between 0 and 10)\n",
    "random_m=np.random.randint(0, 10, size=(3, 3))\n",
    "\n",
    "det = np.linalg.det(random_m)\n",
    "\n",
    "print(\"Random matrix:\\n\", random_m)\n",
    "\n",
    "print(\"\\nDeterminant:\", det)"
   ]
  },
  {
   "cell_type": "code",
   "execution_count": null,
   "metadata": {},
   "outputs": [
    {
     "data": {
      "text/plain": [
       "array([[ 1,  2,  3,  4],\n",
       "       [ 5,  6,  7,  8],\n",
       "       [ 9, 10, 11, 12]])"
      ]
     },
     "execution_count": 112,
     "metadata": {},
     "output_type": "execute_result"
    }
   ],
   "source": [
    "#12.Create two matrices ( A ) (3x4) and ( B ) (4x3), and compute the matrix product ( A \\cdot B ).\n",
    "\n",
    "A=np.array([\n",
    "    [1, 2, 3, 4],\n",
    "    [5, 6, 7, 8],\n",
    "    [9, 10, 11, 12]\n",
    "])\n",
    "A"
   ]
  },
  {
   "cell_type": "code",
   "execution_count": 113,
   "metadata": {},
   "outputs": [
    {
     "data": {
      "text/plain": [
       "array([[ 1,  2,  3],\n",
       "       [ 5,  6,  7],\n",
       "       [ 9, 10, 14],\n",
       "       [32, 43, 53]])"
      ]
     },
     "execution_count": 113,
     "metadata": {},
     "output_type": "execute_result"
    }
   ],
   "source": [
    "B=np.array([\n",
    "    [1, 2, 3],\n",
    "    [5, 6, 7],\n",
    "    [9, 10, 14],\n",
    "    [32,43,53]\n",
    "])\n",
    "B"
   ]
  },
  {
   "cell_type": "code",
   "execution_count": 119,
   "metadata": {},
   "outputs": [
    {
     "data": {
      "text/plain": [
       "array([[166, 216, 271],\n",
       "       [354, 460, 579],\n",
       "       [542, 704, 887]])"
      ]
     },
     "execution_count": 119,
     "metadata": {},
     "output_type": "execute_result"
    }
   ],
   "source": [
    "np.dot(A, B)\n"
   ]
  },
  {
   "cell_type": "code",
   "execution_count": 121,
   "metadata": {},
   "outputs": [
    {
     "data": {
      "text/plain": [
       "array([[3626],\n",
       "       [3045],\n",
       "       [1631]], dtype=int32)"
      ]
     },
     "execution_count": 121,
     "metadata": {},
     "output_type": "execute_result"
    }
   ],
   "source": [
    "#13.Create a 3x3 random matrix and a 3-element column vector. Compute the matrix-vector product.\n",
    "\n",
    "random_matr=np.random.randint(0, 100, size=(3, 3))\n",
    "\n",
    "vector=np.random.randint(0, 100, size=(3, 1))\n",
    "\n",
    "product=np.dot(random_matr,vector)\n",
    "product"
   ]
  },
  {
   "cell_type": "code",
   "execution_count": null,
   "metadata": {},
   "outputs": [
    {
     "data": {
      "text/plain": [
       "array([[ 6.73426573],\n",
       "       [ 2.08857809],\n",
       "       [-4.77389277]])"
      ]
     },
     "execution_count": 122,
     "metadata": {},
     "output_type": "execute_result"
    }
   ],
   "source": [
    "#14.Solve the linear system ( Ax = b ) where ( A ) is a 3x3 matrix, and ( b ) is a 3x1 column vector.\n",
    "\n",
    "A=np.random.randint(1, 20, size=(3, 3))\n",
    "b=np.random.randint(1, 20, size=(3, 1))\n",
    "\n",
    "x = np.linalg.solve(A, b)\n",
    "\n",
    "x"
   ]
  },
  {
   "cell_type": "code",
   "execution_count": 128,
   "metadata": {},
   "outputs": [
    {
     "name": "stdout",
     "output_type": "stream",
     "text": [
      "Matrix itself:\n",
      " [[9 4 9 7 4]\n",
      " [1 6 6 4 1]\n",
      " [5 5 3 4 5]\n",
      " [6 2 2 4 4]\n",
      " [7 0 4 8 3]]\n",
      "\n",
      "Row sums:\n",
      " [33 18 22 18 22]\n",
      "\n",
      "Column sums:\n",
      " [28 17 24 27 17]\n"
     ]
    }
   ],
   "source": [
    "#15.Given a 5x5 matrix, find the row-wise and column-wise sums.\n",
    "\n",
    "matrix_5x5=np.random.randint(0, 10, size=(5, 5))\n",
    "# Calculate row-wise sums\n",
    "row_sums = np.sum(matrix_5x5, axis=1)\n",
    "\n",
    "# Calculate column-wise sums\n",
    "col_sums = np.sum(matrix_5x5, axis=0)\n",
    "\n",
    "print(\"Matrix itself:\\n\", matrix_5x5)\n",
    "\n",
    "print(\"\\nRow sums:\\n\", row_sums)\n",
    "\n",
    "print(\"\\nColumn sums:\\n\", col_sums)"
   ]
  }
 ],
 "metadata": {
  "kernelspec": {
   "display_name": "Python 3",
   "language": "python",
   "name": "python3"
  },
  "language_info": {
   "codemirror_mode": {
    "name": "ipython",
    "version": 3
   },
   "file_extension": ".py",
   "mimetype": "text/x-python",
   "name": "python",
   "nbconvert_exporter": "python",
   "pygments_lexer": "ipython3",
   "version": "3.13.2"
  }
 },
 "nbformat": 4,
 "nbformat_minor": 2
}
