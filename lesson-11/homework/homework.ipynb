{
 "cells": [
  {
   "cell_type": "markdown",
   "metadata": {},
   "source": [
    "TASK 1\n",
    "\n",
    "    Database Creation:\n",
    "        Create a new SQLite database named roster.db.\n",
    "        Define a table called Roster with the following schema:\n",
    "            Name: TEXT\n",
    "            Species: TEXT\n",
    "            Age: INTEGER\n",
    "\n",
    "    Insert Data:\n",
    "        Populate the Roster table with the following entries:\n",
    "\n",
    "Name \tSpecies \tAge\n",
    "Benjamin Sisko \tHuman \t40\n",
    "Jadzia Dax \tTrill \t300\n",
    "Kira Nerys \tBajoran \t29\n",
    "\n",
    "    Update Data:\n",
    "        Update the Name of Jadzia Dax to Ezri Dax.\n",
    "\n",
    "    Query Data:\n",
    "        Retrieve and display the Name and Age of all characters where the Species is Bajoran.\n",
    "\n",
    "    Delete Data:\n",
    "        Remove all characters aged over 100 years from the table.\n",
    "\n",
    "    Bonus Task:\n",
    "        Add a new column called Rank to the Roster table and update the data with the following values:\n",
    "\n",
    "Name \tRank\n",
    "Benjamin Sisko \tCaptain\n",
    "Ezri Dax \tLieutenant\n",
    "Kira Nerys \tMajor\n",
    "\n",
    "    Advanced Query:\n",
    "        Retrieve all characters sorted by their Age in descending order.\n"
   ]
  },
  {
   "cell_type": "code",
   "execution_count": 199,
   "metadata": {},
   "outputs": [],
   "source": [
    "create=\"\"\"\n",
    "    Create Table Roster1(Name text, Species text, Age int)\n",
    "\"\"\"\n",
    "\n",
    "insert=\"\"\"\n",
    "    Insert into Roster1 Values('Benjamin Sisko','Human', 40),('Jadzia Dax', 'Trill', 300),('Kira Nerys','Bajoran',29)\n",
    "\"\"\""
   ]
  },
  {
   "cell_type": "code",
   "execution_count": 183,
   "metadata": {},
   "outputs": [],
   "source": [
    "import sqlite3\n",
    "\n",
    "with sqlite3.connect('roster1.db') as c:\n",
    "    cursor=c.cursor()\n",
    "    cursor.execute(create)\n",
    "    cursor.execute(insert)"
   ]
  },
  {
   "cell_type": "markdown",
   "metadata": {},
   "source": [
    "Update Data:\n",
    "        Update the Name of Jadzia Dax to Ezri Dax."
   ]
  },
  {
   "cell_type": "code",
   "execution_count": null,
   "metadata": {},
   "outputs": [],
   "source": [
    "with sqlite3.connect('roster1.db') as c:\n",
    "    cursor=c.cursor()\n",
    "    cursor.execute(\"UPDATE Roster1 SET Name='Ezri Dax' WHERE Name='Jadzia Dax'\")\n",
    "    \n",
    "    "
   ]
  },
  {
   "cell_type": "markdown",
   "metadata": {},
   "source": [
    "Query Data:\n",
    "        Retrieve and display the Name and Age of all characters where the Species is Bajoran."
   ]
  },
  {
   "cell_type": "code",
   "execution_count": 202,
   "metadata": {},
   "outputs": [
    {
     "data": {
      "text/plain": [
       "[('Kira Nerys', 29)]"
      ]
     },
     "execution_count": 202,
     "metadata": {},
     "output_type": "execute_result"
    }
   ],
   "source": [
    "with sqlite3.connect('roster1.db') as con:\n",
    "    cursor=con.cursor()\n",
    "    data=cursor.execute(\"SELECT Name, Age from Roster1 WHERE Species='Bajoran'\")\n",
    "data.fetchall()"
   ]
  },
  {
   "cell_type": "markdown",
   "metadata": {},
   "source": [
    "    Delete Data:\n",
    "        Remove all characters aged over 100 years from the table.\n"
   ]
  },
  {
   "cell_type": "code",
   "execution_count": 204,
   "metadata": {},
   "outputs": [],
   "source": [
    "with sqlite3.connect('roster1.db') as c:\n",
    "    cursor=c.cursor()\n",
    "    cursor.execute(\"DELETE from Roster1 WHERE age>100\")"
   ]
  },
  {
   "cell_type": "markdown",
   "metadata": {},
   "source": [
    "Bonus Task:\n",
    "        Add a new column called Rank to the Roster table and update the data with the following values:\n",
    "\n",
    "Name \tRank\n",
    "Benjamin Sisko \tCaptain\n",
    "Ezri Dax \tLieutenant\n",
    "Kira Nerys \tMajor\n",
    "\n",
    "    Advanced Query:\n",
    "        Retrieve all characters sorted by their Age in descending order.\n"
   ]
  },
  {
   "cell_type": "code",
   "execution_count": 206,
   "metadata": {},
   "outputs": [],
   "source": [
    "with sqlite3.connect('roster1.db') as c:\n",
    "    cursor=c.cursor()\n",
    "    cursor.execute(\"ALTER TABLE Roster1 ADD column Rank\")"
   ]
  },
  {
   "cell_type": "code",
   "execution_count": 208,
   "metadata": {},
   "outputs": [],
   "source": [
    "with sqlite3.connect('roster1.db') as c:\n",
    "    cursor=c.cursor()\n",
    "    cursor.execute(\"UPDATE Roster1 SET Rank='Captain' WHERE Name='Benjamin Sisko'\")\n",
    "    cursor.execute(\"UPDATE Roster1 SET Rank='Lieutenant' WHERE Name='Ezri Dax'\")\n",
    "    cursor.execute(\"UPDATE Roster1 SET Rank='Major' WHERE Name='Kira Nerys'\")"
   ]
  },
  {
   "cell_type": "code",
   "execution_count": 211,
   "metadata": {},
   "outputs": [],
   "source": [
    "insert=\"\"\"\n",
    "    Insert into Roster1 Values('Ezri Dax','Trill', '300','Lieutenant')\n",
    "\"\"\""
   ]
  },
  {
   "cell_type": "code",
   "execution_count": 212,
   "metadata": {},
   "outputs": [],
   "source": [
    "with sqlite3.connect('roster1.db') as c:\n",
    "    cursor=c.cursor()\n",
    "    cursor.execute(insert)"
   ]
  },
  {
   "cell_type": "code",
   "execution_count": 226,
   "metadata": {},
   "outputs": [
    {
     "data": {
      "text/plain": [
       "[('Ezri Dax', 'Trill', 300, 'Lieutenant'),\n",
       " ('Benjamin Sisko', 'Human', 40, 'Captain'),\n",
       " ('Kira Nerys', 'Bajoran', 29, 'Major')]"
      ]
     },
     "execution_count": 226,
     "metadata": {},
     "output_type": "execute_result"
    }
   ],
   "source": [
    "with sqlite3.connect('roster1.db') as c:\n",
    "    cursor=c.cursor()\n",
    "    query=\"Select * from Roster1 order by age desc\"\n",
    "    data=cursor.execute(query)\n",
    "data.fetchall()"
   ]
  },
  {
   "cell_type": "markdown",
   "metadata": {},
   "source": [
    "Task 2\n",
    "\n",
    "    Database Creation:\n",
    "        Create a new SQLite database named library.db.\n",
    "        Define a table called Books with the following schema:\n",
    "            Title: TEXT\n",
    "            Author: TEXT\n",
    "            Year_Published: INTEGER\n",
    "            Genre: TEXT\n",
    "\n",
    "    Insert Data:\n",
    "        Populate the Books table with the following entries:\n",
    "\n",
    "Title \tAuthor \tYear_Published \tGenre\n",
    "To Kill a Mockingbird \tHarper Lee \t1960 \tFiction\n",
    "1984 \tGeorge Orwell \t1949 \tDystopian\n",
    "The Great Gatsby \tF. Scott Fitzgerald \t1925 \tClassic\n",
    "\n",
    "    Update Data:\n",
    "        Update the Year_Published of 1984 to 1950.\n",
    "\n",
    "    Query Data:\n",
    "        Retrieve and display the Title and Author of all books where the Genre is Dystopian.\n",
    "\n",
    "    Delete Data:\n",
    "        Remove all books published before the year 1950 from the table.\n",
    "\n",
    "    Bonus Task:\n",
    "        Add a new column called Rating to the Books table and update the data with the following values:\n",
    "\n",
    "Title \tRating\n",
    "To Kill a Mockingbird \t4.8\n",
    "1984 \t4.7\n",
    "The Great Gatsby \t4.5\n",
    "\n",
    "    Advanced Query:\n",
    "        Retrieve all books sorted by their Year_Published in ascending order.\n"
   ]
  },
  {
   "cell_type": "markdown",
   "metadata": {},
   "source": [
    "Database Creation:\n",
    "        Create a new SQLite database named library.db.\n",
    "        Define a table called Books with the following schema:\n",
    "            Title: TEXT\n",
    "            Author: TEXT\n",
    "            Year_Published: INTEGER\n",
    "            Genre: TEXT\n",
    "\n",
    "    Insert Data:\n",
    "        Populate the Books table with the following entries:\n",
    "\n",
    "Title \tAuthor \tYear_Published \tGenre\n",
    "To Kill a Mockingbird \tHarper Lee \t1960 \tFiction\n",
    "1984 \tGeorge Orwell \t1949 \tDystopian\n",
    "The Great Gatsby \tF. Scott Fitzgerald \t1925 \tClassic"
   ]
  },
  {
   "cell_type": "code",
   "execution_count": 227,
   "metadata": {},
   "outputs": [],
   "source": [
    "create=\"\"\"\n",
    "    Create Table Books(Title text, Author text, Year_Published int, Genre text)\n",
    "\"\"\"\n",
    "insert=\"\"\"\n",
    "    Insert into Books Values('To Kill a Mockingbird','Harper Lee',1960,'Fiction'), ('1984','George Orwell',1949,'Dystopian'),('The Great Gatsby','F. Scott Fitzgerald',1925,'Classic')\n",
    "\"\"\""
   ]
  },
  {
   "cell_type": "code",
   "execution_count": 228,
   "metadata": {},
   "outputs": [],
   "source": [
    "with sqlite3.connect('library.db') as c:\n",
    "    cursor=c.cursor()\n",
    "    cursor.execute(create)\n",
    "    cursor.execute(insert)"
   ]
  },
  {
   "cell_type": "markdown",
   "metadata": {},
   "source": [
    "Update Data:\n",
    "        Update the Year_Published of 1984 to 1950."
   ]
  },
  {
   "cell_type": "code",
   "execution_count": 230,
   "metadata": {},
   "outputs": [],
   "source": [
    "with sqlite3.connect('library.db') as c:\n",
    "    cursor=c.cursor()\n",
    "    cursor.execute(\"UPDATE Books SET Year_Published=1950 WHERE Year_Published=1949\")"
   ]
  },
  {
   "cell_type": "markdown",
   "metadata": {},
   "source": [
    "Delete Data:\n",
    "        Remove all books published before the year 1950 from the table.\n",
    "\n",
    "    Bonus Task:\n",
    "        Add a new column called Rating to the Books table and update the data with the following values:\n",
    "\n",
    "Title \tRating\n",
    "To Kill a Mockingbird \t4.8\n",
    "1984 \t4.7\n",
    "The Great Gatsby \t4.5\n",
    "\n",
    "    Advanced Query:\n",
    "        Retrieve all books sorted by their Year_Published in ascending order."
   ]
  },
  {
   "cell_type": "code",
   "execution_count": 231,
   "metadata": {},
   "outputs": [],
   "source": [
    "with sqlite3.connect('library.db') as c:\n",
    "    cursor=c.cursor()\n",
    "    cursor.execute(\"DELETE from Books WHERE Year_Published<1950\")"
   ]
  },
  {
   "cell_type": "code",
   "execution_count": 232,
   "metadata": {},
   "outputs": [],
   "source": [
    "with sqlite3.connect('library.db') as c:\n",
    "    cursor=c.cursor()\n",
    "    cursor.execute(\"ALTER table Books add column 'Rating'\")"
   ]
  },
  {
   "cell_type": "code",
   "execution_count": null,
   "metadata": {},
   "outputs": [],
   "source": [
    "with sqlite3.connect('library.db') as c:\n",
    "    cursor=c.cursor()\n",
    "    cursor.execute(\"UPDATE Books SET Rating=4.8 WHERE Title='To Kill a Mockingbird'\")\n",
    "    cursor.execute(\"UPDATE Books SET Rating=4.7 WHERE Title='1984'\")\n",
    "    cursor.execute(\"UPDATE Books SET Rating=4.5 WHERE Title='The Great Gatsby'\")\n",
    "    \n",
    "    "
   ]
  },
  {
   "cell_type": "code",
   "execution_count": 272,
   "metadata": {},
   "outputs": [],
   "source": [
    "insert=\"\"\"\n",
    "    INSERT INTO Books (title, author, year_published, genre, rating)\n",
    "    VALUES ('The Great Gatsby', 'F. Scott Fitzgerald', 1925, 'Classic', 4.5);\n",
    "\"\"\""
   ]
  },
  {
   "cell_type": "code",
   "execution_count": 273,
   "metadata": {},
   "outputs": [],
   "source": [
    "with sqlite3.connect('library.db') as c:\n",
    "    cursor=c.cursor()\n",
    "    cursor.execute(insert)"
   ]
  }
 ],
 "metadata": {
  "kernelspec": {
   "display_name": "Python 3",
   "language": "python",
   "name": "python3"
  },
  "language_info": {
   "codemirror_mode": {
    "name": "ipython",
    "version": 3
   },
   "file_extension": ".py",
   "mimetype": "text/x-python",
   "name": "python",
   "nbconvert_exporter": "python",
   "pygments_lexer": "ipython3",
   "version": "3.13.2"
  }
 },
 "nbformat": 4,
 "nbformat_minor": 2
}
